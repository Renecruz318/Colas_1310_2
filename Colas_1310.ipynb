{
  "nbformat": 4,
  "nbformat_minor": 0,
  "metadata": {
    "colab": {
      "name": "Colas_1310.ipynb",
      "provenance": [],
      "authorship_tag": "ABX9TyO8BMatF7dSNFYPAPaixu1d",
      "include_colab_link": true
    },
    "kernelspec": {
      "name": "python3",
      "display_name": "Python 3"
    },
    "language_info": {
      "name": "python"
    }
  },
  "cells": [
    {
      "cell_type": "markdown",
      "metadata": {
        "id": "view-in-github",
        "colab_type": "text"
      },
      "source": [
        "<a href=\"https://colab.research.google.com/github/Renecruz318/Colas_1310_2/blob/main/Colas_1310.ipynb\" target=\"_parent\"><img src=\"https://colab.research.google.com/assets/colab-badge.svg\" alt=\"Open In Colab\"/></a>"
      ]
    },
    {
      "cell_type": "code",
      "metadata": {
        "id": "b98Zj1kmKCqj"
      },
      "source": [
        "class Queue:\n",
        "    def __init__( self ):\n",
        "        self.data = []\n",
        "\n",
        "    def is_empty( self ):\n",
        "        return len(self.data) == 0\n",
        "\n",
        "    def length ( self ):\n",
        "        return len( self.data )\n",
        "\n",
        "    def enqueue( self, value ):\n",
        "        self.data.append(value)\n",
        "\n",
        "    def dequeue( self ):\n",
        "        return self.data.pop(0)\n",
        "    \n",
        "    def to_string( self ):\n",
        "        for elem in self.data:\n",
        "            print(f\"| { elem } |<--\", end=\"\")\n",
        "        print(\"\")"
      ],
      "execution_count": 35,
      "outputs": []
    },
    {
      "cell_type": "code",
      "metadata": {
        "colab": {
          "base_uri": "https://localhost:8080/"
        },
        "id": "jF7cj4AxNpRr",
        "outputId": "91c9d12e-2786-4e07-f3c1-f5cb592ccae0"
      },
      "source": [
        "cola = Queue()\n",
        "print(\"¿Está vacio? : \" , cola.is_empty() )\n",
        "print(\"numero de elementos =\" , cola.length() )\n",
        "cola.enqueue(10)\n",
        "cola.enqueue(20)\n",
        "cola.enqueue(30)\n",
        "print(\"¿Está vacio? : \" , cola.is_empty() )\n",
        "print(\"numero de elementos =\" , cola.length() )\n",
        "cola.enqueue(40)\n",
        "cola.enqueue(50)\n",
        "cola.enqueue(60)\n",
        "cola.to_string()\n",
        "\n",
        "siguiente = cola.dequeue()\n",
        "print(\"Atendiendo a:\" , siguiente)\n",
        "cola.to_string()"
      ],
      "execution_count": 36,
      "outputs": [
        {
          "output_type": "stream",
          "name": "stdout",
          "text": [
            "¿Está vacio? :  True\n",
            "numero de elementos = 0\n",
            "¿Está vacio? :  False\n",
            "numero de elementos = 3\n",
            "| 10 |<--| 20 |<--| 30 |<--| 40 |<--| 50 |<--| 60 |<--\n",
            "Atendiendo a: 10\n",
            "| 20 |<--| 30 |<--| 40 |<--| 50 |<--| 60 |<--\n"
          ]
        }
      ]
    },
    {
      "cell_type": "markdown",
      "metadata": {
        "id": "tGe1V_oiQmdv"
      },
      "source": [
        "#Variantes del ADT Cola\n",
        "1. Circulares\n",
        "2. Prioridad\n",
        "    - Acotada\n",
        "    - No acotada\n"
      ]
    },
    {
      "cell_type": "code",
      "metadata": {
        "id": "jOiWpcSUBrvG"
      },
      "source": [
        "#implementacion de la cola de prioridad acotada\n",
        "\n",
        "class BoundedPriorityQueue:\n",
        "    def __init__( self, niveles ):\n",
        "        self.__data = [ Queue() for x in range(niveles) ]\n",
        "\n",
        "        #para implentar con arreglos\n",
        "        #self.__data = Array(niveles)\n",
        "        #self.__data.clear( Queue() )\n",
        "\n",
        "        self.__size = 0 # size almacena el numero de elementos ya ingresados en la estructura\n",
        "\n",
        "    def is_empty (self ):\n",
        "        return self.__size == 0 \n",
        "\n",
        "    def length( self):\n",
        "        return self.__size\n",
        "\n",
        "    def enqueue( self, prioridad, elem):\n",
        "        if prioridad < len( self.__data ) \\\n",
        "            and prioridad >= 0:\n",
        "            self.__data[ prioridad ].enqueue( elem )\n",
        "            self.__size += 1 \n",
        "    def dequeue( self ):\n",
        "        nivel = 0\n",
        "        while self.__data[ nivel ].is_empty() \\\n",
        "            and nivel < self.length():\n",
        "            nivel += 1\n",
        "        \n",
        "        if nivel >= self.length():\n",
        "            print(\"Cola está vacía\")\n",
        "        else:\n",
        "            return self.__data[ nivel ].dequeue()\n",
        "\n",
        "    def to_string( self ):\n",
        "        prioridad = 0\n",
        "        for cola in self.__data:\n",
        "            print(f\"Prioridad {prioridad} --> \", end=\"\")\n",
        "            #if not cola.is_empty():\n",
        "            cola.to_string()\n",
        "            prioridad += 1"
      ],
      "execution_count": 37,
      "outputs": []
    },
    {
      "cell_type": "code",
      "metadata": {
        "colab": {
          "base_uri": "https://localhost:8080/"
        },
        "id": "c8p5_NyYMnRS",
        "outputId": "3afec8dd-9fd8-4b89-ba87-c536eaf67ccd"
      },
      "source": [
        "# prueba de ls cola con prioridad\n",
        "salvavidas = BoundedPriorityQueue( 7 )\n",
        "salvavidas.enqueue( 4, \"Maestre\" )\n",
        "salvavidas.enqueue( 2, \"Niños\" )\n",
        "salvavidas.enqueue( 4, \"Mecánico\" )\n",
        "salvavidas.enqueue( 3, \"Mujeres\" )\n",
        "salvavidas.enqueue( 2, \"Tercera edad\" )\n",
        "salvavidas.enqueue( 1, \"Niñas\" )\n",
        "salvavidas.enqueue( 3, \"Hombres\" )\n",
        "salvavidas.enqueue( 4, \"Vigia\" )\n",
        "salvavidas.enqueue( 5, \"Capitan\" )\n",
        "salvavidas.enqueue( 4, \"Timonel\" )\n",
        "salvavidas.to_string()\n",
        "\n",
        "sig = salvavidas.dequeue()\n",
        "print(f\"subiendo { sig } al bote salvavidas!!\")\n",
        "salvavidas.to_string()\n",
        "print(\"----------\")\n",
        "\n",
        "sig = salvavidas.dequeue()\n",
        "print(f\"subiendo { sig } al bote salvavidas!!\")\n",
        "salvavidas.to_string()\n",
        "print(\"----------\")\n",
        "\n",
        "sig = salvavidas.dequeue()\n",
        "print(f\"subiendo { sig } al bote salvavidas!!\")\n",
        "salvavidas.to_string()\n",
        "print(\"----------\")\n",
        "\n",
        "sig = salvavidas.dequeue()\n",
        "print(f\"subiendo { sig } al bote salvavidas!!\")\n",
        "salvavidas.to_string()\n",
        "print(\"----------\")"
      ],
      "execution_count": 38,
      "outputs": [
        {
          "output_type": "stream",
          "name": "stdout",
          "text": [
            "Prioridad 0 --> \n",
            "Prioridad 1 --> | Niñas |<--\n",
            "Prioridad 2 --> | Niños |<--| Tercera edad |<--\n",
            "Prioridad 3 --> | Mujeres |<--| Hombres |<--\n",
            "Prioridad 4 --> | Maestre |<--| Mecánico |<--| Vigia |<--| Timonel |<--\n",
            "Prioridad 5 --> | Capitan |<--\n",
            "Prioridad 6 --> \n",
            "subiendo Niñas al bote salvavidas!!\n",
            "Prioridad 0 --> \n",
            "Prioridad 1 --> \n",
            "Prioridad 2 --> | Niños |<--| Tercera edad |<--\n",
            "Prioridad 3 --> | Mujeres |<--| Hombres |<--\n",
            "Prioridad 4 --> | Maestre |<--| Mecánico |<--| Vigia |<--| Timonel |<--\n",
            "Prioridad 5 --> | Capitan |<--\n",
            "Prioridad 6 --> \n",
            "----------\n",
            "subiendo Niños al bote salvavidas!!\n",
            "Prioridad 0 --> \n",
            "Prioridad 1 --> \n",
            "Prioridad 2 --> | Tercera edad |<--\n",
            "Prioridad 3 --> | Mujeres |<--| Hombres |<--\n",
            "Prioridad 4 --> | Maestre |<--| Mecánico |<--| Vigia |<--| Timonel |<--\n",
            "Prioridad 5 --> | Capitan |<--\n",
            "Prioridad 6 --> \n",
            "----------\n",
            "subiendo Tercera edad al bote salvavidas!!\n",
            "Prioridad 0 --> \n",
            "Prioridad 1 --> \n",
            "Prioridad 2 --> \n",
            "Prioridad 3 --> | Mujeres |<--| Hombres |<--\n",
            "Prioridad 4 --> | Maestre |<--| Mecánico |<--| Vigia |<--| Timonel |<--\n",
            "Prioridad 5 --> | Capitan |<--\n",
            "Prioridad 6 --> \n",
            "----------\n",
            "subiendo Mujeres al bote salvavidas!!\n",
            "Prioridad 0 --> \n",
            "Prioridad 1 --> \n",
            "Prioridad 2 --> \n",
            "Prioridad 3 --> | Hombres |<--\n",
            "Prioridad 4 --> | Maestre |<--| Mecánico |<--| Vigia |<--| Timonel |<--\n",
            "Prioridad 5 --> | Capitan |<--\n",
            "Prioridad 6 --> \n",
            "----------\n"
          ]
        }
      ]
    },
    {
      "cell_type": "code",
      "metadata": {
        "id": "rU08cSDZR06U"
      },
      "source": [
        "# implementacion de las colas de prioridad sin acotammiento\n",
        "class PriorityQueue:\n",
        "    def __init__( self ):\n",
        "        self.__data = []\n",
        "        self.__size = 0\n",
        "\n",
        "    def is_empty (self ):\n",
        "        return self.__size == 0 \n",
        "\n",
        "    def length( self):\n",
        "        return self.__size\n",
        "    \n",
        "    def enqueue( self, prioridad, elem ):\n",
        "        existe = False\n",
        "        indice = 0\n",
        "        for index in range(len(self.__data)):\n",
        "            if self.__data[index][\"prioridad\"] == prioridad:\n",
        "                existe = True\n",
        "                indice = index\n",
        "\n",
        "        if existe:\n",
        "            self.__data[indice][\"cola\"].enqueue(elem)\n",
        "        else:\n",
        "            self.__data.append({\"prioridad\":prioridad , \"cola\": Queue() } )\n",
        "            self.__data[-1][\"cola\"].enqueue(elem)\n",
        "\n",
        "    def to_string( self ):\n",
        "        for cola in self.__data:\n",
        "            print(cola[\"prioridad\"] , end=\"\")\n",
        "            cola[\"cola\"].to_string()\n"
      ],
      "execution_count": 46,
      "outputs": []
    },
    {
      "cell_type": "code",
      "metadata": {
        "colab": {
          "base_uri": "https://localhost:8080/"
        },
        "id": "bNVo-RBUWd54",
        "outputId": "b6dbe6e9-3b87-4bc9-b173-0b4398b9b76c"
      },
      "source": [
        "cp = PriorityQueue()\n",
        "cp.enqueue(1,\"Niñas\")\n",
        "cp.enqueue(2,\"Niños\")\n",
        "cp.enqueue(2,\"Profesores\")\n",
        "cp.enqueue(0,\"Presidentes de EU\")\n",
        "cp.enqueue(100000,\"Presidente de México\")\n",
        "cp.to_string()"
      ],
      "execution_count": 48,
      "outputs": [
        {
          "output_type": "stream",
          "name": "stdout",
          "text": [
            "1| Niñas |<--\n",
            "2| Niños |<--| Profesores |<--\n",
            "0| Presidentes de EU |<--\n",
            "100000| Presidente de México |<--\n"
          ]
        }
      ]
    }
  ]
}